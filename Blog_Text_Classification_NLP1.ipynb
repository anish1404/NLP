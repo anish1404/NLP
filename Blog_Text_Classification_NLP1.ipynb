{
  "nbformat": 4,
  "nbformat_minor": 0,
  "metadata": {
    "colab": {
      "name": "Blog Text Classification-NLP1.ipynb",
      "provenance": [],
      "collapsed_sections": []
    },
    "kernelspec": {
      "name": "python3",
      "display_name": "Python 3"
    },
    "language_info": {
      "name": "python"
    },
    "accelerator": "GPU"
  },
  "cells": [
    {
      "cell_type": "code",
      "metadata": {
        "id": "7ocSaNXAmKUC"
      },
      "source": [
        "import pandas as pd"
      ],
      "execution_count": 38,
      "outputs": []
    },
    {
      "cell_type": "code",
      "metadata": {
        "id": "wRpBy3YrmT_Q"
      },
      "source": [
        "df=pd.read_csv('/content/drive/MyDrive/blogtext.csv',nrows=200000)"
      ],
      "execution_count": 39,
      "outputs": []
    },
    {
      "cell_type": "code",
      "metadata": {
        "colab": {
          "base_uri": "https://localhost:8080/",
          "height": 195
        },
        "id": "ZPbb_GtNmwDt",
        "outputId": "f5d33e0d-cf86-4b36-a5dc-6eb2f48a5717"
      },
      "source": [
        "df.head()"
      ],
      "execution_count": 40,
      "outputs": [
        {
          "output_type": "execute_result",
          "data": {
            "text/html": [
              "<div>\n",
              "<style scoped>\n",
              "    .dataframe tbody tr th:only-of-type {\n",
              "        vertical-align: middle;\n",
              "    }\n",
              "\n",
              "    .dataframe tbody tr th {\n",
              "        vertical-align: top;\n",
              "    }\n",
              "\n",
              "    .dataframe thead th {\n",
              "        text-align: right;\n",
              "    }\n",
              "</style>\n",
              "<table border=\"1\" class=\"dataframe\">\n",
              "  <thead>\n",
              "    <tr style=\"text-align: right;\">\n",
              "      <th></th>\n",
              "      <th>id</th>\n",
              "      <th>gender</th>\n",
              "      <th>age</th>\n",
              "      <th>topic</th>\n",
              "      <th>sign</th>\n",
              "      <th>date</th>\n",
              "      <th>text</th>\n",
              "    </tr>\n",
              "  </thead>\n",
              "  <tbody>\n",
              "    <tr>\n",
              "      <th>0</th>\n",
              "      <td>2059027</td>\n",
              "      <td>male</td>\n",
              "      <td>15</td>\n",
              "      <td>Student</td>\n",
              "      <td>Leo</td>\n",
              "      <td>14,May,2004</td>\n",
              "      <td>Info has been found (+/- 100 pages,...</td>\n",
              "    </tr>\n",
              "    <tr>\n",
              "      <th>1</th>\n",
              "      <td>2059027</td>\n",
              "      <td>male</td>\n",
              "      <td>15</td>\n",
              "      <td>Student</td>\n",
              "      <td>Leo</td>\n",
              "      <td>13,May,2004</td>\n",
              "      <td>These are the team members:   Drewe...</td>\n",
              "    </tr>\n",
              "    <tr>\n",
              "      <th>2</th>\n",
              "      <td>2059027</td>\n",
              "      <td>male</td>\n",
              "      <td>15</td>\n",
              "      <td>Student</td>\n",
              "      <td>Leo</td>\n",
              "      <td>12,May,2004</td>\n",
              "      <td>In het kader van kernfusie op aarde...</td>\n",
              "    </tr>\n",
              "    <tr>\n",
              "      <th>3</th>\n",
              "      <td>2059027</td>\n",
              "      <td>male</td>\n",
              "      <td>15</td>\n",
              "      <td>Student</td>\n",
              "      <td>Leo</td>\n",
              "      <td>12,May,2004</td>\n",
              "      <td>testing!!!  testing!!!</td>\n",
              "    </tr>\n",
              "    <tr>\n",
              "      <th>4</th>\n",
              "      <td>3581210</td>\n",
              "      <td>male</td>\n",
              "      <td>33</td>\n",
              "      <td>InvestmentBanking</td>\n",
              "      <td>Aquarius</td>\n",
              "      <td>11,June,2004</td>\n",
              "      <td>Thanks to Yahoo!'s Toolbar I can ...</td>\n",
              "    </tr>\n",
              "  </tbody>\n",
              "</table>\n",
              "</div>"
            ],
            "text/plain": [
              "        id  ...                                               text\n",
              "0  2059027  ...             Info has been found (+/- 100 pages,...\n",
              "1  2059027  ...             These are the team members:   Drewe...\n",
              "2  2059027  ...             In het kader van kernfusie op aarde...\n",
              "3  2059027  ...                   testing!!!  testing!!!          \n",
              "4  3581210  ...               Thanks to Yahoo!'s Toolbar I can ...\n",
              "\n",
              "[5 rows x 7 columns]"
            ]
          },
          "metadata": {
            "tags": []
          },
          "execution_count": 40
        }
      ]
    },
    {
      "cell_type": "code",
      "metadata": {
        "colab": {
          "base_uri": "https://localhost:8080/"
        },
        "id": "APXYa-aQpYPu",
        "outputId": "2126ce02-0132-4b26-fae5-a9812f5f0607"
      },
      "source": [
        "import nltk\n",
        "nltk.download('stopwords')"
      ],
      "execution_count": 41,
      "outputs": [
        {
          "output_type": "stream",
          "text": [
            "[nltk_data] Downloading package stopwords to /root/nltk_data...\n",
            "[nltk_data]   Package stopwords is already up-to-date!\n"
          ],
          "name": "stdout"
        },
        {
          "output_type": "execute_result",
          "data": {
            "text/plain": [
              "True"
            ]
          },
          "metadata": {
            "tags": []
          },
          "execution_count": 41
        }
      ]
    },
    {
      "cell_type": "markdown",
      "metadata": {
        "id": "3vcAXz3rq6iR"
      },
      "source": [
        "**Initial Pre-processing**"
      ]
    },
    {
      "cell_type": "code",
      "metadata": {
        "id": "MY1ix9D-pqNU"
      },
      "source": [
        "df['text'] = df['text'].str.replace('[^A-Za-z]',' ')\n",
        "df['text'] = df['text'].str.lower()\n",
        "df[\"text\"] = df[\"text\"].str.strip()\n",
        "df[\"text\"] = df[\"text\"].str.split()  "
      ],
      "execution_count": 42,
      "outputs": []
    },
    {
      "cell_type": "code",
      "metadata": {
        "colab": {
          "base_uri": "https://localhost:8080/"
        },
        "id": "WcFaMVErqjnS",
        "outputId": "c4eca904-ebb1-4268-e022-e8f1a04ec8a3"
      },
      "source": [
        "df[\"text\"]"
      ],
      "execution_count": 43,
      "outputs": [
        {
          "output_type": "execute_result",
          "data": {
            "text/plain": [
              "0         [info, has, been, found, pages, and, mb, of, p...\n",
              "1         [these, are, the, team, members, drewes, van, ...\n",
              "2         [in, het, kader, van, kernfusie, op, aarde, ma...\n",
              "3                                        [testing, testing]\n",
              "4         [thanks, to, yahoo, s, toolbar, i, can, now, c...\n",
              "                                ...                        \n",
              "199995    [needing, longing, yearning, wishing, waiting,...\n",
              "199996    [i, m, not, out, to, hurt, him, i, tore, his, ...\n",
              "199997    [without, a, strong, commitment, to, diversity...\n",
              "199998    [urllink, educating, for, a, diverse, america,...\n",
              "199999    [the, whole, point, of, the, liberal, revoluti...\n",
              "Name: text, Length: 200000, dtype: object"
            ]
          },
          "metadata": {
            "tags": []
          },
          "execution_count": 43
        }
      ]
    },
    {
      "cell_type": "markdown",
      "metadata": {
        "id": "QFsZc5fJq1Rs"
      },
      "source": [
        "**Stopword Removal**"
      ]
    },
    {
      "cell_type": "code",
      "metadata": {
        "id": "nH0Uw9XOmyYY"
      },
      "source": [
        "from nltk.corpus import stopwords\n",
        "stopwords = set(stopwords.words('english'))\n",
        "df.text = df.text.apply(lambda x: ' '.join([word for word in x if word not in stopwords]))"
      ],
      "execution_count": 44,
      "outputs": []
    },
    {
      "cell_type": "code",
      "metadata": {
        "colab": {
          "base_uri": "https://localhost:8080/"
        },
        "id": "1DjSBtFCply8",
        "outputId": "df1b364a-d7eb-4ad8-e7b4-703744a022a9"
      },
      "source": [
        "df[\"text\"]"
      ],
      "execution_count": 45,
      "outputs": [
        {
          "output_type": "execute_result",
          "data": {
            "text/plain": [
              "0         info found pages mb pdf files wait untill team...\n",
              "1         team members drewes van der laag urllink mail ...\n",
              "2         het kader van kernfusie op aarde maak je eigen...\n",
              "3                                           testing testing\n",
              "4         thanks yahoo toolbar capture urls popups means...\n",
              "                                ...                        \n",
              "199995     needing longing yearning wishing waiting wanting\n",
              "199996    hurt tore world apart walks around broken hear...\n",
              "199997    without strong commitment diversity world lead...\n",
              "199998    urllink educating diverse america summit sympo...\n",
              "199999    whole point liberal revolution gave rise free ...\n",
              "Name: text, Length: 200000, dtype: object"
            ]
          },
          "metadata": {
            "tags": []
          },
          "execution_count": 45
        }
      ]
    },
    {
      "cell_type": "markdown",
      "metadata": {
        "id": "XKn-933sr1B9"
      },
      "source": [
        "**Creating Label**"
      ]
    },
    {
      "cell_type": "code",
      "metadata": {
        "colab": {
          "base_uri": "https://localhost:8080/",
          "height": 195
        },
        "id": "zZaqFs3Fqx9P",
        "outputId": "ac533536-3d44-4df6-cec7-28fa31272262"
      },
      "source": [
        "\n",
        "df['age'] = df['age'].astype(str)\n",
        "\n",
        "\n",
        "df['labels'] = df.apply(lambda col : [col['gender'],col['age'],col['topic'],col['sign']], axis=1)\n",
        "\n",
        "merged_data=df.drop(labels =['date','gender', 'age','topic','sign','id'], axis = 1)\n",
        "merged_data.head()"
      ],
      "execution_count": 46,
      "outputs": [
        {
          "output_type": "execute_result",
          "data": {
            "text/html": [
              "<div>\n",
              "<style scoped>\n",
              "    .dataframe tbody tr th:only-of-type {\n",
              "        vertical-align: middle;\n",
              "    }\n",
              "\n",
              "    .dataframe tbody tr th {\n",
              "        vertical-align: top;\n",
              "    }\n",
              "\n",
              "    .dataframe thead th {\n",
              "        text-align: right;\n",
              "    }\n",
              "</style>\n",
              "<table border=\"1\" class=\"dataframe\">\n",
              "  <thead>\n",
              "    <tr style=\"text-align: right;\">\n",
              "      <th></th>\n",
              "      <th>text</th>\n",
              "      <th>labels</th>\n",
              "    </tr>\n",
              "  </thead>\n",
              "  <tbody>\n",
              "    <tr>\n",
              "      <th>0</th>\n",
              "      <td>info found pages mb pdf files wait untill team...</td>\n",
              "      <td>[male, 15, Student, Leo]</td>\n",
              "    </tr>\n",
              "    <tr>\n",
              "      <th>1</th>\n",
              "      <td>team members drewes van der laag urllink mail ...</td>\n",
              "      <td>[male, 15, Student, Leo]</td>\n",
              "    </tr>\n",
              "    <tr>\n",
              "      <th>2</th>\n",
              "      <td>het kader van kernfusie op aarde maak je eigen...</td>\n",
              "      <td>[male, 15, Student, Leo]</td>\n",
              "    </tr>\n",
              "    <tr>\n",
              "      <th>3</th>\n",
              "      <td>testing testing</td>\n",
              "      <td>[male, 15, Student, Leo]</td>\n",
              "    </tr>\n",
              "    <tr>\n",
              "      <th>4</th>\n",
              "      <td>thanks yahoo toolbar capture urls popups means...</td>\n",
              "      <td>[male, 33, InvestmentBanking, Aquarius]</td>\n",
              "    </tr>\n",
              "  </tbody>\n",
              "</table>\n",
              "</div>"
            ],
            "text/plain": [
              "                                                text                                   labels\n",
              "0  info found pages mb pdf files wait untill team...                 [male, 15, Student, Leo]\n",
              "1  team members drewes van der laag urllink mail ...                 [male, 15, Student, Leo]\n",
              "2  het kader van kernfusie op aarde maak je eigen...                 [male, 15, Student, Leo]\n",
              "3                                    testing testing                 [male, 15, Student, Leo]\n",
              "4  thanks yahoo toolbar capture urls popups means...  [male, 33, InvestmentBanking, Aquarius]"
            ]
          },
          "metadata": {
            "tags": []
          },
          "execution_count": 46
        }
      ]
    },
    {
      "cell_type": "code",
      "metadata": {
        "colab": {
          "base_uri": "https://localhost:8080/"
        },
        "id": "UWxcZrB-h2F4",
        "outputId": "547ad77a-db35-4e74-ad85-14829103a3c6"
      },
      "source": [
        "merged_data['labels'].astype('str').value_counts()"
      ],
      "execution_count": 47,
      "outputs": [
        {
          "output_type": "execute_result",
          "data": {
            "text/plain": [
              "['male', '35', 'Technology', 'Aries']         2298\n",
              "['female', '17', 'Student', 'Capricorn']      2039\n",
              "['female', '17', 'indUnk', 'Aquarius']        1930\n",
              "['male', '36', 'Fashion', 'Aries']            1616\n",
              "['male', '17', 'Technology', 'Taurus']        1552\n",
              "                                              ... \n",
              "['female', '47', 'Consulting', 'Scorpio']        1\n",
              "['female', '25', 'Technology', 'Aquarius']       1\n",
              "['male', '43', 'Technology', 'Cancer']           1\n",
              "['female', '33', 'Arts', 'Taurus']               1\n",
              "['male', '38', 'Internet', 'Taurus']             1\n",
              "Name: labels, Length: 2375, dtype: int64"
            ]
          },
          "metadata": {
            "tags": []
          },
          "execution_count": 47
        }
      ]
    },
    {
      "cell_type": "markdown",
      "metadata": {
        "id": "Thf_TPfcsCI5"
      },
      "source": [
        "**Splitting Train Test**"
      ]
    },
    {
      "cell_type": "code",
      "metadata": {
        "id": "OqtPnb_yrw30"
      },
      "source": [
        "from sklearn.model_selection import train_test_split\n",
        "X = merged_data['text']\n",
        "y=merged_data['labels']\n",
        "X_train, X_test, y_train, y_test = train_test_split(X,y, test_size = 0.20, random_state = 123)"
      ],
      "execution_count": 48,
      "outputs": []
    },
    {
      "cell_type": "code",
      "metadata": {
        "colab": {
          "base_uri": "https://localhost:8080/"
        },
        "id": "7zQNRiGPsFqm",
        "outputId": "5b3757da-b469-46e8-b496-164392fa3f8b"
      },
      "source": [
        "X_test.shape"
      ],
      "execution_count": 49,
      "outputs": [
        {
          "output_type": "execute_result",
          "data": {
            "text/plain": [
              "(40000,)"
            ]
          },
          "metadata": {
            "tags": []
          },
          "execution_count": 49
        }
      ]
    },
    {
      "cell_type": "code",
      "metadata": {
        "colab": {
          "base_uri": "https://localhost:8080/"
        },
        "id": "_M78GzzSseTm",
        "outputId": "1afe0186-3ae6-42ad-b060-c5af6f8beae2"
      },
      "source": [
        "y_test.shape"
      ],
      "execution_count": 50,
      "outputs": [
        {
          "output_type": "execute_result",
          "data": {
            "text/plain": [
              "(40000,)"
            ]
          },
          "metadata": {
            "tags": []
          },
          "execution_count": 50
        }
      ]
    },
    {
      "cell_type": "code",
      "metadata": {
        "id": "GO_REiSwiHpP"
      },
      "source": [
        "from sklearn.feature_extraction.text import CountVectorizer\n",
        "vectorizer = CountVectorizer(ngram_range = (1,2), \n",
        "                             min_df = 0.15, max_df = 0.8, max_features = 100)"
      ],
      "execution_count": 51,
      "outputs": []
    },
    {
      "cell_type": "code",
      "metadata": {
        "colab": {
          "base_uri": "https://localhost:8080/"
        },
        "id": "yveY8_f2iSZy",
        "outputId": "87c1e801-044c-49fa-fd41-1c41a567e839"
      },
      "source": [
        "\n",
        "X_train_dtm = vectorizer.fit_transform(X_train)\n",
        "X_test_dtm = vectorizer.transform(X_test)\n",
        "X_train_dtm"
      ],
      "execution_count": 52,
      "outputs": [
        {
          "output_type": "execute_result",
          "data": {
            "text/plain": [
              "<160000x34 sparse matrix of type '<class 'numpy.int64'>'\n",
              "\twith 1165366 stored elements in Compressed Sparse Row format>"
            ]
          },
          "metadata": {
            "tags": []
          },
          "execution_count": 52
        }
      ]
    },
    {
      "cell_type": "code",
      "metadata": {
        "colab": {
          "base_uri": "https://localhost:8080/"
        },
        "id": "1nVeRGMSiasG",
        "outputId": "fe162893-addc-4886-cb8a-987825640c62"
      },
      "source": [
        "vectorizer.get_feature_names()[:10]"
      ],
      "execution_count": 53,
      "outputs": [
        {
          "output_type": "execute_result",
          "data": {
            "text/plain": [
              "['back', 'could', 'day', 'even', 'first', 'get', 'go', 'going', 'good', 'got']"
            ]
          },
          "metadata": {
            "tags": []
          },
          "execution_count": 53
        }
      ]
    },
    {
      "cell_type": "code",
      "metadata": {
        "colab": {
          "base_uri": "https://localhost:8080/",
          "height": 422
        },
        "id": "XnjEXDPeiavA",
        "outputId": "f319a2e3-b4cc-4e95-be8f-3a674f11dc9b"
      },
      "source": [
        "pd.DataFrame(X_train_dtm.toarray(), columns = vectorizer.get_feature_names())"
      ],
      "execution_count": 54,
      "outputs": [
        {
          "output_type": "execute_result",
          "data": {
            "text/html": [
              "<div>\n",
              "<style scoped>\n",
              "    .dataframe tbody tr th:only-of-type {\n",
              "        vertical-align: middle;\n",
              "    }\n",
              "\n",
              "    .dataframe tbody tr th {\n",
              "        vertical-align: top;\n",
              "    }\n",
              "\n",
              "    .dataframe thead th {\n",
              "        text-align: right;\n",
              "    }\n",
              "</style>\n",
              "<table border=\"1\" class=\"dataframe\">\n",
              "  <thead>\n",
              "    <tr style=\"text-align: right;\">\n",
              "      <th></th>\n",
              "      <th>back</th>\n",
              "      <th>could</th>\n",
              "      <th>day</th>\n",
              "      <th>even</th>\n",
              "      <th>first</th>\n",
              "      <th>get</th>\n",
              "      <th>go</th>\n",
              "      <th>going</th>\n",
              "      <th>good</th>\n",
              "      <th>got</th>\n",
              "      <th>know</th>\n",
              "      <th>last</th>\n",
              "      <th>like</th>\n",
              "      <th>make</th>\n",
              "      <th>much</th>\n",
              "      <th>new</th>\n",
              "      <th>one</th>\n",
              "      <th>people</th>\n",
              "      <th>really</th>\n",
              "      <th>right</th>\n",
              "      <th>say</th>\n",
              "      <th>see</th>\n",
              "      <th>something</th>\n",
              "      <th>still</th>\n",
              "      <th>things</th>\n",
              "      <th>think</th>\n",
              "      <th>time</th>\n",
              "      <th>today</th>\n",
              "      <th>urllink</th>\n",
              "      <th>want</th>\n",
              "      <th>way</th>\n",
              "      <th>well</th>\n",
              "      <th>work</th>\n",
              "      <th>would</th>\n",
              "    </tr>\n",
              "  </thead>\n",
              "  <tbody>\n",
              "    <tr>\n",
              "      <th>0</th>\n",
              "      <td>5</td>\n",
              "      <td>3</td>\n",
              "      <td>8</td>\n",
              "      <td>1</td>\n",
              "      <td>4</td>\n",
              "      <td>14</td>\n",
              "      <td>3</td>\n",
              "      <td>7</td>\n",
              "      <td>1</td>\n",
              "      <td>17</td>\n",
              "      <td>8</td>\n",
              "      <td>0</td>\n",
              "      <td>9</td>\n",
              "      <td>0</td>\n",
              "      <td>4</td>\n",
              "      <td>0</td>\n",
              "      <td>1</td>\n",
              "      <td>0</td>\n",
              "      <td>6</td>\n",
              "      <td>2</td>\n",
              "      <td>2</td>\n",
              "      <td>3</td>\n",
              "      <td>4</td>\n",
              "      <td>2</td>\n",
              "      <td>1</td>\n",
              "      <td>4</td>\n",
              "      <td>3</td>\n",
              "      <td>1</td>\n",
              "      <td>0</td>\n",
              "      <td>0</td>\n",
              "      <td>3</td>\n",
              "      <td>2</td>\n",
              "      <td>2</td>\n",
              "      <td>4</td>\n",
              "    </tr>\n",
              "    <tr>\n",
              "      <th>1</th>\n",
              "      <td>0</td>\n",
              "      <td>0</td>\n",
              "      <td>0</td>\n",
              "      <td>1</td>\n",
              "      <td>0</td>\n",
              "      <td>1</td>\n",
              "      <td>2</td>\n",
              "      <td>0</td>\n",
              "      <td>0</td>\n",
              "      <td>2</td>\n",
              "      <td>1</td>\n",
              "      <td>0</td>\n",
              "      <td>0</td>\n",
              "      <td>0</td>\n",
              "      <td>0</td>\n",
              "      <td>0</td>\n",
              "      <td>0</td>\n",
              "      <td>0</td>\n",
              "      <td>1</td>\n",
              "      <td>0</td>\n",
              "      <td>0</td>\n",
              "      <td>0</td>\n",
              "      <td>0</td>\n",
              "      <td>0</td>\n",
              "      <td>0</td>\n",
              "      <td>0</td>\n",
              "      <td>1</td>\n",
              "      <td>0</td>\n",
              "      <td>0</td>\n",
              "      <td>0</td>\n",
              "      <td>0</td>\n",
              "      <td>0</td>\n",
              "      <td>0</td>\n",
              "      <td>0</td>\n",
              "    </tr>\n",
              "    <tr>\n",
              "      <th>2</th>\n",
              "      <td>0</td>\n",
              "      <td>0</td>\n",
              "      <td>1</td>\n",
              "      <td>0</td>\n",
              "      <td>2</td>\n",
              "      <td>0</td>\n",
              "      <td>0</td>\n",
              "      <td>1</td>\n",
              "      <td>0</td>\n",
              "      <td>0</td>\n",
              "      <td>0</td>\n",
              "      <td>0</td>\n",
              "      <td>0</td>\n",
              "      <td>0</td>\n",
              "      <td>0</td>\n",
              "      <td>0</td>\n",
              "      <td>0</td>\n",
              "      <td>0</td>\n",
              "      <td>0</td>\n",
              "      <td>0</td>\n",
              "      <td>0</td>\n",
              "      <td>0</td>\n",
              "      <td>0</td>\n",
              "      <td>0</td>\n",
              "      <td>1</td>\n",
              "      <td>0</td>\n",
              "      <td>0</td>\n",
              "      <td>0</td>\n",
              "      <td>0</td>\n",
              "      <td>0</td>\n",
              "      <td>0</td>\n",
              "      <td>0</td>\n",
              "      <td>0</td>\n",
              "      <td>0</td>\n",
              "    </tr>\n",
              "    <tr>\n",
              "      <th>3</th>\n",
              "      <td>0</td>\n",
              "      <td>0</td>\n",
              "      <td>0</td>\n",
              "      <td>0</td>\n",
              "      <td>0</td>\n",
              "      <td>0</td>\n",
              "      <td>0</td>\n",
              "      <td>0</td>\n",
              "      <td>0</td>\n",
              "      <td>0</td>\n",
              "      <td>0</td>\n",
              "      <td>0</td>\n",
              "      <td>0</td>\n",
              "      <td>0</td>\n",
              "      <td>0</td>\n",
              "      <td>0</td>\n",
              "      <td>0</td>\n",
              "      <td>0</td>\n",
              "      <td>0</td>\n",
              "      <td>0</td>\n",
              "      <td>0</td>\n",
              "      <td>0</td>\n",
              "      <td>0</td>\n",
              "      <td>0</td>\n",
              "      <td>0</td>\n",
              "      <td>0</td>\n",
              "      <td>0</td>\n",
              "      <td>0</td>\n",
              "      <td>1</td>\n",
              "      <td>0</td>\n",
              "      <td>0</td>\n",
              "      <td>0</td>\n",
              "      <td>0</td>\n",
              "      <td>0</td>\n",
              "    </tr>\n",
              "    <tr>\n",
              "      <th>4</th>\n",
              "      <td>0</td>\n",
              "      <td>0</td>\n",
              "      <td>0</td>\n",
              "      <td>0</td>\n",
              "      <td>0</td>\n",
              "      <td>0</td>\n",
              "      <td>0</td>\n",
              "      <td>0</td>\n",
              "      <td>0</td>\n",
              "      <td>0</td>\n",
              "      <td>0</td>\n",
              "      <td>0</td>\n",
              "      <td>0</td>\n",
              "      <td>0</td>\n",
              "      <td>0</td>\n",
              "      <td>0</td>\n",
              "      <td>0</td>\n",
              "      <td>0</td>\n",
              "      <td>0</td>\n",
              "      <td>0</td>\n",
              "      <td>0</td>\n",
              "      <td>0</td>\n",
              "      <td>0</td>\n",
              "      <td>0</td>\n",
              "      <td>0</td>\n",
              "      <td>1</td>\n",
              "      <td>1</td>\n",
              "      <td>0</td>\n",
              "      <td>0</td>\n",
              "      <td>0</td>\n",
              "      <td>0</td>\n",
              "      <td>0</td>\n",
              "      <td>0</td>\n",
              "      <td>1</td>\n",
              "    </tr>\n",
              "    <tr>\n",
              "      <th>...</th>\n",
              "      <td>...</td>\n",
              "      <td>...</td>\n",
              "      <td>...</td>\n",
              "      <td>...</td>\n",
              "      <td>...</td>\n",
              "      <td>...</td>\n",
              "      <td>...</td>\n",
              "      <td>...</td>\n",
              "      <td>...</td>\n",
              "      <td>...</td>\n",
              "      <td>...</td>\n",
              "      <td>...</td>\n",
              "      <td>...</td>\n",
              "      <td>...</td>\n",
              "      <td>...</td>\n",
              "      <td>...</td>\n",
              "      <td>...</td>\n",
              "      <td>...</td>\n",
              "      <td>...</td>\n",
              "      <td>...</td>\n",
              "      <td>...</td>\n",
              "      <td>...</td>\n",
              "      <td>...</td>\n",
              "      <td>...</td>\n",
              "      <td>...</td>\n",
              "      <td>...</td>\n",
              "      <td>...</td>\n",
              "      <td>...</td>\n",
              "      <td>...</td>\n",
              "      <td>...</td>\n",
              "      <td>...</td>\n",
              "      <td>...</td>\n",
              "      <td>...</td>\n",
              "      <td>...</td>\n",
              "    </tr>\n",
              "    <tr>\n",
              "      <th>159995</th>\n",
              "      <td>2</td>\n",
              "      <td>3</td>\n",
              "      <td>1</td>\n",
              "      <td>1</td>\n",
              "      <td>0</td>\n",
              "      <td>1</td>\n",
              "      <td>1</td>\n",
              "      <td>1</td>\n",
              "      <td>0</td>\n",
              "      <td>1</td>\n",
              "      <td>3</td>\n",
              "      <td>0</td>\n",
              "      <td>3</td>\n",
              "      <td>1</td>\n",
              "      <td>0</td>\n",
              "      <td>0</td>\n",
              "      <td>1</td>\n",
              "      <td>0</td>\n",
              "      <td>1</td>\n",
              "      <td>1</td>\n",
              "      <td>0</td>\n",
              "      <td>0</td>\n",
              "      <td>2</td>\n",
              "      <td>0</td>\n",
              "      <td>1</td>\n",
              "      <td>0</td>\n",
              "      <td>0</td>\n",
              "      <td>0</td>\n",
              "      <td>0</td>\n",
              "      <td>1</td>\n",
              "      <td>1</td>\n",
              "      <td>1</td>\n",
              "      <td>0</td>\n",
              "      <td>2</td>\n",
              "    </tr>\n",
              "    <tr>\n",
              "      <th>159996</th>\n",
              "      <td>0</td>\n",
              "      <td>0</td>\n",
              "      <td>0</td>\n",
              "      <td>0</td>\n",
              "      <td>0</td>\n",
              "      <td>0</td>\n",
              "      <td>0</td>\n",
              "      <td>0</td>\n",
              "      <td>0</td>\n",
              "      <td>0</td>\n",
              "      <td>0</td>\n",
              "      <td>0</td>\n",
              "      <td>0</td>\n",
              "      <td>0</td>\n",
              "      <td>0</td>\n",
              "      <td>0</td>\n",
              "      <td>0</td>\n",
              "      <td>0</td>\n",
              "      <td>0</td>\n",
              "      <td>0</td>\n",
              "      <td>0</td>\n",
              "      <td>0</td>\n",
              "      <td>0</td>\n",
              "      <td>0</td>\n",
              "      <td>0</td>\n",
              "      <td>0</td>\n",
              "      <td>0</td>\n",
              "      <td>0</td>\n",
              "      <td>0</td>\n",
              "      <td>0</td>\n",
              "      <td>0</td>\n",
              "      <td>0</td>\n",
              "      <td>0</td>\n",
              "      <td>0</td>\n",
              "    </tr>\n",
              "    <tr>\n",
              "      <th>159997</th>\n",
              "      <td>0</td>\n",
              "      <td>0</td>\n",
              "      <td>0</td>\n",
              "      <td>0</td>\n",
              "      <td>0</td>\n",
              "      <td>10</td>\n",
              "      <td>2</td>\n",
              "      <td>0</td>\n",
              "      <td>1</td>\n",
              "      <td>0</td>\n",
              "      <td>0</td>\n",
              "      <td>0</td>\n",
              "      <td>0</td>\n",
              "      <td>1</td>\n",
              "      <td>0</td>\n",
              "      <td>3</td>\n",
              "      <td>0</td>\n",
              "      <td>0</td>\n",
              "      <td>0</td>\n",
              "      <td>0</td>\n",
              "      <td>0</td>\n",
              "      <td>2</td>\n",
              "      <td>1</td>\n",
              "      <td>0</td>\n",
              "      <td>0</td>\n",
              "      <td>0</td>\n",
              "      <td>1</td>\n",
              "      <td>0</td>\n",
              "      <td>0</td>\n",
              "      <td>1</td>\n",
              "      <td>0</td>\n",
              "      <td>0</td>\n",
              "      <td>0</td>\n",
              "      <td>0</td>\n",
              "    </tr>\n",
              "    <tr>\n",
              "      <th>159998</th>\n",
              "      <td>0</td>\n",
              "      <td>0</td>\n",
              "      <td>1</td>\n",
              "      <td>0</td>\n",
              "      <td>1</td>\n",
              "      <td>0</td>\n",
              "      <td>5</td>\n",
              "      <td>0</td>\n",
              "      <td>0</td>\n",
              "      <td>0</td>\n",
              "      <td>1</td>\n",
              "      <td>0</td>\n",
              "      <td>1</td>\n",
              "      <td>0</td>\n",
              "      <td>0</td>\n",
              "      <td>0</td>\n",
              "      <td>1</td>\n",
              "      <td>0</td>\n",
              "      <td>0</td>\n",
              "      <td>0</td>\n",
              "      <td>0</td>\n",
              "      <td>1</td>\n",
              "      <td>1</td>\n",
              "      <td>0</td>\n",
              "      <td>0</td>\n",
              "      <td>0</td>\n",
              "      <td>0</td>\n",
              "      <td>0</td>\n",
              "      <td>1</td>\n",
              "      <td>1</td>\n",
              "      <td>0</td>\n",
              "      <td>1</td>\n",
              "      <td>0</td>\n",
              "      <td>1</td>\n",
              "    </tr>\n",
              "    <tr>\n",
              "      <th>159999</th>\n",
              "      <td>0</td>\n",
              "      <td>0</td>\n",
              "      <td>0</td>\n",
              "      <td>0</td>\n",
              "      <td>0</td>\n",
              "      <td>1</td>\n",
              "      <td>0</td>\n",
              "      <td>0</td>\n",
              "      <td>0</td>\n",
              "      <td>1</td>\n",
              "      <td>0</td>\n",
              "      <td>1</td>\n",
              "      <td>1</td>\n",
              "      <td>0</td>\n",
              "      <td>0</td>\n",
              "      <td>0</td>\n",
              "      <td>0</td>\n",
              "      <td>1</td>\n",
              "      <td>0</td>\n",
              "      <td>1</td>\n",
              "      <td>0</td>\n",
              "      <td>0</td>\n",
              "      <td>0</td>\n",
              "      <td>0</td>\n",
              "      <td>0</td>\n",
              "      <td>0</td>\n",
              "      <td>1</td>\n",
              "      <td>0</td>\n",
              "      <td>1</td>\n",
              "      <td>0</td>\n",
              "      <td>0</td>\n",
              "      <td>0</td>\n",
              "      <td>0</td>\n",
              "      <td>1</td>\n",
              "    </tr>\n",
              "  </tbody>\n",
              "</table>\n",
              "<p>160000 rows × 34 columns</p>\n",
              "</div>"
            ],
            "text/plain": [
              "        back  could  day  even  first  ...  want  way  well  work  would\n",
              "0          5      3    8     1      4  ...     0    3     2     2      4\n",
              "1          0      0    0     1      0  ...     0    0     0     0      0\n",
              "2          0      0    1     0      2  ...     0    0     0     0      0\n",
              "3          0      0    0     0      0  ...     0    0     0     0      0\n",
              "4          0      0    0     0      0  ...     0    0     0     0      1\n",
              "...      ...    ...  ...   ...    ...  ...   ...  ...   ...   ...    ...\n",
              "159995     2      3    1     1      0  ...     1    1     1     0      2\n",
              "159996     0      0    0     0      0  ...     0    0     0     0      0\n",
              "159997     0      0    0     0      0  ...     1    0     0     0      0\n",
              "159998     0      0    1     0      1  ...     1    0     1     0      1\n",
              "159999     0      0    0     0      0  ...     0    0     0     0      1\n",
              "\n",
              "[160000 rows x 34 columns]"
            ]
          },
          "metadata": {
            "tags": []
          },
          "execution_count": 54
        }
      ]
    },
    {
      "cell_type": "code",
      "metadata": {
        "colab": {
          "base_uri": "https://localhost:8080/"
        },
        "id": "QeFngLBEia11",
        "outputId": "71a63f2d-3887-4936-facc-cb0ed9e80297"
      },
      "source": [
        "dfT = df[['gender', 'age', 'topic', 'sign']]\n",
        "dfT['age'] = dfT['age'].astype('str')"
      ],
      "execution_count": 55,
      "outputs": [
        {
          "output_type": "stream",
          "text": [
            "/usr/local/lib/python3.7/dist-packages/ipykernel_launcher.py:2: SettingWithCopyWarning: \n",
            "A value is trying to be set on a copy of a slice from a DataFrame.\n",
            "Try using .loc[row_indexer,col_indexer] = value instead\n",
            "\n",
            "See the caveats in the documentation: https://pandas.pydata.org/pandas-docs/stable/user_guide/indexing.html#returning-a-view-versus-a-copy\n",
            "  \n"
          ],
          "name": "stderr"
        }
      ]
    },
    {
      "cell_type": "code",
      "metadata": {
        "colab": {
          "base_uri": "https://localhost:8080/",
          "height": 402
        },
        "id": "EM9gkO80sS5V",
        "outputId": "5259fed0-dd45-42ae-e37a-2b0399f10cfa"
      },
      "source": [
        "dfT"
      ],
      "execution_count": 74,
      "outputs": [
        {
          "output_type": "execute_result",
          "data": {
            "text/html": [
              "<div>\n",
              "<style scoped>\n",
              "    .dataframe tbody tr th:only-of-type {\n",
              "        vertical-align: middle;\n",
              "    }\n",
              "\n",
              "    .dataframe tbody tr th {\n",
              "        vertical-align: top;\n",
              "    }\n",
              "\n",
              "    .dataframe thead th {\n",
              "        text-align: right;\n",
              "    }\n",
              "</style>\n",
              "<table border=\"1\" class=\"dataframe\">\n",
              "  <thead>\n",
              "    <tr style=\"text-align: right;\">\n",
              "      <th></th>\n",
              "      <th>gender</th>\n",
              "      <th>age</th>\n",
              "      <th>topic</th>\n",
              "      <th>sign</th>\n",
              "    </tr>\n",
              "  </thead>\n",
              "  <tbody>\n",
              "    <tr>\n",
              "      <th>0</th>\n",
              "      <td>male</td>\n",
              "      <td>15</td>\n",
              "      <td>Student</td>\n",
              "      <td>Leo</td>\n",
              "    </tr>\n",
              "    <tr>\n",
              "      <th>1</th>\n",
              "      <td>male</td>\n",
              "      <td>15</td>\n",
              "      <td>Student</td>\n",
              "      <td>Leo</td>\n",
              "    </tr>\n",
              "    <tr>\n",
              "      <th>2</th>\n",
              "      <td>male</td>\n",
              "      <td>15</td>\n",
              "      <td>Student</td>\n",
              "      <td>Leo</td>\n",
              "    </tr>\n",
              "    <tr>\n",
              "      <th>3</th>\n",
              "      <td>male</td>\n",
              "      <td>15</td>\n",
              "      <td>Student</td>\n",
              "      <td>Leo</td>\n",
              "    </tr>\n",
              "    <tr>\n",
              "      <th>4</th>\n",
              "      <td>male</td>\n",
              "      <td>33</td>\n",
              "      <td>InvestmentBanking</td>\n",
              "      <td>Aquarius</td>\n",
              "    </tr>\n",
              "    <tr>\n",
              "      <th>...</th>\n",
              "      <td>...</td>\n",
              "      <td>...</td>\n",
              "      <td>...</td>\n",
              "      <td>...</td>\n",
              "    </tr>\n",
              "    <tr>\n",
              "      <th>199995</th>\n",
              "      <td>female</td>\n",
              "      <td>27</td>\n",
              "      <td>indUnk</td>\n",
              "      <td>Libra</td>\n",
              "    </tr>\n",
              "    <tr>\n",
              "      <th>199996</th>\n",
              "      <td>female</td>\n",
              "      <td>27</td>\n",
              "      <td>indUnk</td>\n",
              "      <td>Libra</td>\n",
              "    </tr>\n",
              "    <tr>\n",
              "      <th>199997</th>\n",
              "      <td>female</td>\n",
              "      <td>40</td>\n",
              "      <td>Accounting</td>\n",
              "      <td>Scorpio</td>\n",
              "    </tr>\n",
              "    <tr>\n",
              "      <th>199998</th>\n",
              "      <td>female</td>\n",
              "      <td>40</td>\n",
              "      <td>Accounting</td>\n",
              "      <td>Scorpio</td>\n",
              "    </tr>\n",
              "    <tr>\n",
              "      <th>199999</th>\n",
              "      <td>female</td>\n",
              "      <td>40</td>\n",
              "      <td>Accounting</td>\n",
              "      <td>Scorpio</td>\n",
              "    </tr>\n",
              "  </tbody>\n",
              "</table>\n",
              "<p>200000 rows × 4 columns</p>\n",
              "</div>"
            ],
            "text/plain": [
              "        gender age              topic      sign\n",
              "0         male  15            Student       Leo\n",
              "1         male  15            Student       Leo\n",
              "2         male  15            Student       Leo\n",
              "3         male  15            Student       Leo\n",
              "4         male  33  InvestmentBanking  Aquarius\n",
              "...        ...  ..                ...       ...\n",
              "199995  female  27             indUnk     Libra\n",
              "199996  female  27             indUnk     Libra\n",
              "199997  female  40         Accounting   Scorpio\n",
              "199998  female  40         Accounting   Scorpio\n",
              "199999  female  40         Accounting   Scorpio\n",
              "\n",
              "[200000 rows x 4 columns]"
            ]
          },
          "metadata": {
            "tags": []
          },
          "execution_count": 74
        }
      ]
    },
    {
      "cell_type": "code",
      "metadata": {
        "id": "WT0yNdidia4p"
      },
      "source": [
        "keys=[] \n",
        "values=[] \n",
        "\n",
        "for i in range(dfT.shape[1]): # iterate through all the colummns        \n",
        "    for j in range(dfT.iloc[:,i].value_counts().shape[0]): # iterate through all the rows of value_counts of that column\n",
        "        keys.append(dfT.iloc[:,i].value_counts().index[j])         \n",
        "        values.append(dfT.iloc[:,i].value_counts().iloc[j])"
      ],
      "execution_count": 56,
      "outputs": []
    },
    {
      "cell_type": "code",
      "metadata": {
        "id": "1eXEA74xia7S"
      },
      "source": [
        "dictionary = dict(zip(keys,values))"
      ],
      "execution_count": 57,
      "outputs": []
    },
    {
      "cell_type": "code",
      "metadata": {
        "colab": {
          "base_uri": "https://localhost:8080/"
        },
        "id": "YkLp3vpWibPt",
        "outputId": "51c52ed3-39f8-437f-e6c2-9b88d913313b"
      },
      "source": [
        "print(dictionary)"
      ],
      "execution_count": 58,
      "outputs": [
        {
          "output_type": "stream",
          "text": [
            "{'male': 103992, 'female': 96008, '24': 25763, '17': 23768, '16': 20146, '23': 19494, '25': 17699, '26': 16942, '27': 15669, '15': 11431, '14': 7624, '35': 6593, '34': 5344, '36': 4957, '13': 4935, '33': 4520, '37': 3058, '40': 1666, '43': 1426, '39': 1396, '42': 1355, '38': 1230, '41': 1190, '45': 1126, '48': 1012, '46': 935, '47': 503, '44': 218, 'indUnk': 72599, 'Student': 40273, 'Technology': 16845, 'Education': 11574, 'Arts': 8687, 'Communications-Media': 6216, 'Internet': 5099, 'Engineering': 4644, 'Non-Profit': 3497, 'Government': 2894, 'Science': 2834, 'Marketing': 2195, 'Fashion': 2022, 'Consulting': 1997, 'Publishing': 1634, 'BusinessServices': 1526, 'Law': 1406, 'Religion': 1365, 'Museums-Libraries': 1168, 'Advertising': 1067, 'Military': 1044, 'Manufacturing': 915, 'Transportation': 877, 'Accounting': 787, 'Telecommunications': 739, 'Agriculture': 702, 'Banking': 701, 'HumanResources': 580, 'Sports-Recreation': 540, 'Tourism': 514, 'Biotech': 473, 'Chemicals': 472, 'InvestmentBanking': 469, 'LawEnforcement-Security': 398, 'Architecture': 294, 'Construction': 266, 'Automotive': 256, 'RealEstate': 185, 'Environment': 133, 'Maritime': 113, 'Taurus': 19940, 'Cancer': 18531, 'Aries': 18423, 'Leo': 17698, 'Virgo': 17132, 'Aquarius': 16848, 'Capricorn': 15909, 'Libra': 15844, 'Gemini': 15806, 'Scorpio': 15205, 'Pisces': 14876, 'Sagittarius': 13788}\n"
          ],
          "name": "stdout"
        }
      ]
    },
    {
      "cell_type": "code",
      "metadata": {
        "id": "EMbIc49LibSN"
      },
      "source": [
        "from sklearn.preprocessing import MultiLabelBinarizer \n",
        "mlb = MultiLabelBinarizer(classes=sorted(dictionary.keys()))\n",
        "y_train_mlb = mlb.fit_transform(y_train)\n",
        "y_test_mlb = mlb.transform(y_test)"
      ],
      "execution_count": 59,
      "outputs": []
    },
    {
      "cell_type": "code",
      "metadata": {
        "colab": {
          "base_uri": "https://localhost:8080/"
        },
        "id": "r0q2otGRjc1v",
        "outputId": "4ee71c79-b943-4ae6-c30e-db4ddd957bce"
      },
      "source": [
        "mlb.inverse_transform(y_train_mlb)[1]"
      ],
      "execution_count": 70,
      "outputs": [
        {
          "output_type": "execute_result",
          "data": {
            "text/plain": [
              "('23', 'Accounting', 'Sagittarius', 'female')"
            ]
          },
          "metadata": {
            "tags": []
          },
          "execution_count": 70
        }
      ]
    },
    {
      "cell_type": "code",
      "metadata": {
        "colab": {
          "base_uri": "https://localhost:8080/"
        },
        "id": "rR410LtOjc4t",
        "outputId": "75597a4a-4ee0-4673-952d-271a64929d3c"
      },
      "source": [
        "from sklearn.multiclass import OneVsRestClassifier\n",
        "from sklearn.linear_model import LogisticRegression\n",
        "\n",
        "lr = LogisticRegression(solver='lbfgs', multi_class='ovr')\n",
        "ovr = OneVsRestClassifier(lr)\n",
        "\n",
        "ovr.fit(X_train_dtm, y_train_mlb)\n",
        "y_pred_ovr_test = ovr.predict(X_test_dtm)\n",
        "#y_proba_ovr = ovr.predict_proba(X_test_dtm)\n",
        "y_pred_ovr_test"
      ],
      "execution_count": 61,
      "outputs": [
        {
          "output_type": "execute_result",
          "data": {
            "text/plain": [
              "array([[0, 0, 0, ..., 0, 0, 1],\n",
              "       [0, 0, 0, ..., 0, 0, 1],\n",
              "       [0, 0, 0, ..., 0, 0, 1],\n",
              "       ...,\n",
              "       [0, 0, 0, ..., 1, 0, 0],\n",
              "       [0, 0, 0, ..., 0, 0, 1],\n",
              "       [0, 0, 0, ..., 0, 0, 1]])"
            ]
          },
          "metadata": {
            "tags": []
          },
          "execution_count": 61
        }
      ]
    },
    {
      "cell_type": "code",
      "metadata": {
        "colab": {
          "base_uri": "https://localhost:8080/"
        },
        "id": "zSz3jWwfjc8J",
        "outputId": "07ac7aea-52f9-4166-ccde-0cbc4e17a725"
      },
      "source": [
        "y_pred_ovr_train = ovr.predict(X_train_dtm)\n",
        "y_pred_ovr_train"
      ],
      "execution_count": 62,
      "outputs": [
        {
          "output_type": "execute_result",
          "data": {
            "text/plain": [
              "array([[0, 0, 0, ..., 1, 0, 0],\n",
              "       [0, 0, 0, ..., 1, 0, 0],\n",
              "       [0, 0, 0, ..., 0, 0, 1],\n",
              "       ...,\n",
              "       [0, 0, 0, ..., 0, 0, 1],\n",
              "       [0, 0, 0, ..., 1, 0, 0],\n",
              "       [0, 0, 0, ..., 0, 0, 1]])"
            ]
          },
          "metadata": {
            "tags": []
          },
          "execution_count": 62
        }
      ]
    },
    {
      "cell_type": "code",
      "metadata": {
        "id": "3pJApOoajdDL"
      },
      "source": [
        "from sklearn.metrics import accuracy_score, f1_score, average_precision_score, recall_score\n",
        "def print_scores(actual, predicted, averaging_type):\n",
        "    print('\\nAVERAGING TYPE==> ',averaging_type)\n",
        "    print('F1 score: ',f1_score(actual,predicted, average=averaging_type))\n",
        "    print('Average Precision Score: ',average_precision_score(actual,predicted, average=averaging_type))\n",
        "    print('Average Recall Score: ',recall_score(actual,predicted, average=averaging_type))"
      ],
      "execution_count": 63,
      "outputs": []
    },
    {
      "cell_type": "code",
      "metadata": {
        "colab": {
          "base_uri": "https://localhost:8080/"
        },
        "id": "H2jwwMaSjdGB",
        "outputId": "1f076d70-1190-4168-bf30-7ccc73e623ee"
      },
      "source": [
        "print('--------------------------TRAIN SCORES--------------------------------')\n",
        "print('Accuracy score: ',accuracy_score(y_train_mlb, y_pred_ovr_train))\n",
        "print_scores(y_train_mlb, y_pred_ovr_train, 'micro')\n",
        "print_scores(y_train_mlb, y_pred_ovr_train, 'macro')\n",
        "print_scores(y_train_mlb, y_pred_ovr_train, 'weighted')"
      ],
      "execution_count": 64,
      "outputs": [
        {
          "output_type": "stream",
          "text": [
            "--------------------------TRAIN SCORES--------------------------------\n",
            "Accuracy score:  0.0\n",
            "\n",
            "AVERAGING TYPE==>  micro\n",
            "F1 score:  0.225695401918789\n",
            "Average Precision Score:  0.12209898736367093\n",
            "Average Recall Score:  0.1413140625\n",
            "\n",
            "AVERAGING TYPE==>  macro\n",
            "F1 score:  0.013792299722609655\n",
            "Average Precision Score:  0.05083496949637669\n",
            "Average Recall Score:  0.014118399297249886\n",
            "\n",
            "AVERAGING TYPE==>  weighted\n",
            "F1 score:  0.13436021788415017\n",
            "Average Precision Score:  0.2209429972802017\n",
            "Average Recall Score:  0.1413140625\n"
          ],
          "name": "stdout"
        }
      ]
    },
    {
      "cell_type": "code",
      "metadata": {
        "colab": {
          "base_uri": "https://localhost:8080/"
        },
        "id": "OQsK5rSAjdJb",
        "outputId": "5e0a9ef2-3e17-4218-8b94-fab72e5bf9ee"
      },
      "source": [
        "print('--------------------------TEST SCORES--------------------------------')\n",
        "print('Accuracy score: ',accuracy_score(y_test_mlb, y_pred_ovr_test))\n",
        "print_scores(y_test_mlb, y_pred_ovr_test, 'micro')\n",
        "print_scores(y_test_mlb, y_pred_ovr_test, 'macro')\n",
        "print_scores(y_test_mlb, y_pred_ovr_test, 'weighted')"
      ],
      "execution_count": 65,
      "outputs": [
        {
          "output_type": "stream",
          "text": [
            "--------------------------TEST SCORES--------------------------------\n",
            "Accuracy score:  0.0\n",
            "\n",
            "AVERAGING TYPE==>  micro\n",
            "F1 score:  0.2251092618092558\n",
            "Average Precision Score:  0.12161653477099614\n",
            "Average Recall Score:  0.141\n",
            "\n",
            "AVERAGING TYPE==>  macro\n",
            "F1 score:  0.013706438993501291\n",
            "Average Precision Score:  0.05080557061366544\n",
            "Average Recall Score:  0.014090260902638424\n",
            "\n",
            "AVERAGING TYPE==>  weighted\n",
            "F1 score:  0.13403594436879326\n",
            "Average Precision Score:  0.22098280750859975\n",
            "Average Recall Score:  0.141\n"
          ],
          "name": "stdout"
        }
      ]
    },
    {
      "cell_type": "code",
      "metadata": {
        "id": "GHNwlaj_jdK1"
      },
      "source": [
        "five_pred = y_pred_ovr_test[:5]\n",
        "five_actual = y_test_mlb[:5]"
      ],
      "execution_count": 72,
      "outputs": []
    },
    {
      "cell_type": "code",
      "metadata": {
        "colab": {
          "base_uri": "https://localhost:8080/"
        },
        "id": "2Wf3I7cjpgu2",
        "outputId": "8a38df6b-6635-4b49-ee1f-33edcc8b1b50"
      },
      "source": [
        "five_actual = mlb.inverse_transform(five_actual)\n",
        "five_actual"
      ],
      "execution_count": 67,
      "outputs": [
        {
          "output_type": "execute_result",
          "data": {
            "text/plain": [
              "[('26', 'Sagittarius', 'Telecommunications', 'female'),\n",
              " ('26', 'Aquarius', 'Science', 'male'),\n",
              " ('24', 'BusinessServices', 'Leo', 'female'),\n",
              " ('25', 'Technology', 'Virgo', 'male'),\n",
              " ('16', 'Aries', 'Education', 'female')]"
            ]
          },
          "metadata": {
            "tags": []
          },
          "execution_count": 67
        }
      ]
    },
    {
      "cell_type": "code",
      "metadata": {
        "id": "l-loBUVzpkye"
      },
      "source": [
        ""
      ],
      "execution_count": null,
      "outputs": []
    },
    {
      "cell_type": "markdown",
      "metadata": {
        "id": "-wez27rm1Ybv"
      },
      "source": [
        "**PART 2**"
      ]
    },
    {
      "cell_type": "code",
      "metadata": {
        "id": "FrGSfWeE1af4"
      },
      "source": [
        "df2=pd.read_json('GL Bot.json')"
      ],
      "execution_count": 152,
      "outputs": []
    },
    {
      "cell_type": "code",
      "metadata": {
        "colab": {
          "base_uri": "https://localhost:8080/",
          "height": 284
        },
        "id": "Igo7yXFj2liO",
        "outputId": "fae8ed06-2b16-4ea1-9729-525aa7401cd0"
      },
      "source": [
        "df2"
      ],
      "execution_count": 78,
      "outputs": [
        {
          "output_type": "execute_result",
          "data": {
            "text/html": [
              "<div>\n",
              "<style scoped>\n",
              "    .dataframe tbody tr th:only-of-type {\n",
              "        vertical-align: middle;\n",
              "    }\n",
              "\n",
              "    .dataframe tbody tr th {\n",
              "        vertical-align: top;\n",
              "    }\n",
              "\n",
              "    .dataframe thead th {\n",
              "        text-align: right;\n",
              "    }\n",
              "</style>\n",
              "<table border=\"1\" class=\"dataframe\">\n",
              "  <thead>\n",
              "    <tr style=\"text-align: right;\">\n",
              "      <th></th>\n",
              "      <th>tag</th>\n",
              "      <th>patterns</th>\n",
              "      <th>responses</th>\n",
              "      <th>context_set</th>\n",
              "    </tr>\n",
              "  </thead>\n",
              "  <tbody>\n",
              "    <tr>\n",
              "      <th>0</th>\n",
              "      <td>Intro</td>\n",
              "      <td>[hi, how are you, is anyone there, hello, what...</td>\n",
              "      <td>[Hello! how can i help you ?]</td>\n",
              "      <td></td>\n",
              "    </tr>\n",
              "    <tr>\n",
              "      <th>1</th>\n",
              "      <td>Exit</td>\n",
              "      <td>[thank you, thanks, cya, see you, later, see y...</td>\n",
              "      <td>[I hope I was able to assist you, Good Bye]</td>\n",
              "      <td></td>\n",
              "    </tr>\n",
              "    <tr>\n",
              "      <th>2</th>\n",
              "      <td>Olympus</td>\n",
              "      <td>[olympus, explain me how olympus works, I am n...</td>\n",
              "      <td>[Link: Olympus wiki]</td>\n",
              "      <td></td>\n",
              "    </tr>\n",
              "    <tr>\n",
              "      <th>3</th>\n",
              "      <td>SL</td>\n",
              "      <td>[i am not able to understand svm, explain me h...</td>\n",
              "      <td>[Link: Machine Learning wiki ]</td>\n",
              "      <td></td>\n",
              "    </tr>\n",
              "    <tr>\n",
              "      <th>4</th>\n",
              "      <td>NN</td>\n",
              "      <td>[what is deep learning, unable to understand d...</td>\n",
              "      <td>[Link: Neural Nets wiki]</td>\n",
              "      <td></td>\n",
              "    </tr>\n",
              "    <tr>\n",
              "      <th>5</th>\n",
              "      <td>Bot</td>\n",
              "      <td>[what is your name, who are you, name please, ...</td>\n",
              "      <td>[I am your virtual learning assistant]</td>\n",
              "      <td></td>\n",
              "    </tr>\n",
              "    <tr>\n",
              "      <th>6</th>\n",
              "      <td>Profane</td>\n",
              "      <td>[what the hell, bloody stupid bot, do you thin...</td>\n",
              "      <td>[Please use respectful words]</td>\n",
              "      <td></td>\n",
              "    </tr>\n",
              "    <tr>\n",
              "      <th>7</th>\n",
              "      <td>Ticket</td>\n",
              "      <td>[my problem is not solved, you did not help me...</td>\n",
              "      <td>[Tarnsferring the request to your PM]</td>\n",
              "      <td></td>\n",
              "    </tr>\n",
              "  </tbody>\n",
              "</table>\n",
              "</div>"
            ],
            "text/plain": [
              "       tag  ... context_set\n",
              "0    Intro  ...            \n",
              "1     Exit  ...            \n",
              "2  Olympus  ...            \n",
              "3       SL  ...            \n",
              "4       NN  ...            \n",
              "5      Bot  ...            \n",
              "6  Profane  ...            \n",
              "7   Ticket  ...            \n",
              "\n",
              "[8 rows x 4 columns]"
            ]
          },
          "metadata": {
            "tags": []
          },
          "execution_count": 78
        }
      ]
    },
    {
      "cell_type": "code",
      "metadata": {
        "id": "7ohghFqt2pio"
      },
      "source": [
        "df_filter=df2[['patterns','responses']]"
      ],
      "execution_count": 81,
      "outputs": []
    },
    {
      "cell_type": "markdown",
      "metadata": {
        "id": "_NezjaOmPgKT"
      },
      "source": [
        "Preprocessing data"
      ]
    },
    {
      "cell_type": "code",
      "metadata": {
        "id": "QCKUucrV7IHG"
      },
      "source": [
        "patterns=[]\n",
        "response=[]\n",
        "for i,j in zip(df2['patterns'],df2['responses']):\n",
        "  patterns.extend(i)\n",
        "  response.extend([j[0]]*len(i))\n",
        "\n",
        "df_processed=pd.DataFrame()\n",
        "df_processed['patterns']=patterns\n",
        "df_processed['response']=response"
      ],
      "execution_count": 85,
      "outputs": []
    },
    {
      "cell_type": "code",
      "metadata": {
        "colab": {
          "base_uri": "https://localhost:8080/",
          "height": 402
        },
        "id": "GkxLiVQ08hEJ",
        "outputId": "5f14fbd6-98ec-4af3-9d5d-212a7bac71bd"
      },
      "source": [
        "df_processed"
      ],
      "execution_count": 86,
      "outputs": [
        {
          "output_type": "execute_result",
          "data": {
            "text/html": [
              "<div>\n",
              "<style scoped>\n",
              "    .dataframe tbody tr th:only-of-type {\n",
              "        vertical-align: middle;\n",
              "    }\n",
              "\n",
              "    .dataframe tbody tr th {\n",
              "        vertical-align: top;\n",
              "    }\n",
              "\n",
              "    .dataframe thead th {\n",
              "        text-align: right;\n",
              "    }\n",
              "</style>\n",
              "<table border=\"1\" class=\"dataframe\">\n",
              "  <thead>\n",
              "    <tr style=\"text-align: right;\">\n",
              "      <th></th>\n",
              "      <th>patterns</th>\n",
              "      <th>response</th>\n",
              "    </tr>\n",
              "  </thead>\n",
              "  <tbody>\n",
              "    <tr>\n",
              "      <th>0</th>\n",
              "      <td>hi</td>\n",
              "      <td>Hello! how can i help you ?</td>\n",
              "    </tr>\n",
              "    <tr>\n",
              "      <th>1</th>\n",
              "      <td>how are you</td>\n",
              "      <td>Hello! how can i help you ?</td>\n",
              "    </tr>\n",
              "    <tr>\n",
              "      <th>2</th>\n",
              "      <td>is anyone there</td>\n",
              "      <td>Hello! how can i help you ?</td>\n",
              "    </tr>\n",
              "    <tr>\n",
              "      <th>3</th>\n",
              "      <td>hello</td>\n",
              "      <td>Hello! how can i help you ?</td>\n",
              "    </tr>\n",
              "    <tr>\n",
              "      <th>4</th>\n",
              "      <td>whats up</td>\n",
              "      <td>Hello! how can i help you ?</td>\n",
              "    </tr>\n",
              "    <tr>\n",
              "      <th>...</th>\n",
              "      <td>...</td>\n",
              "      <td>...</td>\n",
              "    </tr>\n",
              "    <tr>\n",
              "      <th>123</th>\n",
              "      <td>not good solution</td>\n",
              "      <td>Tarnsferring the request to your PM</td>\n",
              "    </tr>\n",
              "    <tr>\n",
              "      <th>124</th>\n",
              "      <td>no help</td>\n",
              "      <td>Tarnsferring the request to your PM</td>\n",
              "    </tr>\n",
              "    <tr>\n",
              "      <th>125</th>\n",
              "      <td>wasted my time</td>\n",
              "      <td>Tarnsferring the request to your PM</td>\n",
              "    </tr>\n",
              "    <tr>\n",
              "      <th>126</th>\n",
              "      <td>useless bot</td>\n",
              "      <td>Tarnsferring the request to your PM</td>\n",
              "    </tr>\n",
              "    <tr>\n",
              "      <th>127</th>\n",
              "      <td>create a ticket</td>\n",
              "      <td>Tarnsferring the request to your PM</td>\n",
              "    </tr>\n",
              "  </tbody>\n",
              "</table>\n",
              "<p>128 rows × 2 columns</p>\n",
              "</div>"
            ],
            "text/plain": [
              "              patterns                             response\n",
              "0                   hi          Hello! how can i help you ?\n",
              "1          how are you          Hello! how can i help you ?\n",
              "2      is anyone there          Hello! how can i help you ?\n",
              "3                hello          Hello! how can i help you ?\n",
              "4             whats up          Hello! how can i help you ?\n",
              "..                 ...                                  ...\n",
              "123  not good solution  Tarnsferring the request to your PM\n",
              "124            no help  Tarnsferring the request to your PM\n",
              "125     wasted my time  Tarnsferring the request to your PM\n",
              "126        useless bot  Tarnsferring the request to your PM\n",
              "127    create a ticket  Tarnsferring the request to your PM\n",
              "\n",
              "[128 rows x 2 columns]"
            ]
          },
          "metadata": {
            "tags": []
          },
          "execution_count": 86
        }
      ]
    },
    {
      "cell_type": "code",
      "metadata": {
        "colab": {
          "base_uri": "https://localhost:8080/"
        },
        "id": "TwuCxD7Y82e0",
        "outputId": "9e664f94-2e3d-4590-dd9f-3eced47b45ef"
      },
      "source": [
        "df_processed['response'].value_counts()"
      ],
      "execution_count": 87,
      "outputs": [
        {
          "output_type": "execute_result",
          "data": {
            "text/plain": [
              "Link: Machine Learning wiki                  29\n",
              "Link: Neural Nets wiki                       24\n",
              "Hello! how can i help you ?                  20\n",
              "I hope I was able to assist you, Good Bye    16\n",
              "Link: Olympus wiki                           13\n",
              "Please use respectful words                   9\n",
              "Tarnsferring the request to your PM           9\n",
              "I am your virtual learning assistant          8\n",
              "Name: response, dtype: int64"
            ]
          },
          "metadata": {
            "tags": []
          },
          "execution_count": 87
        }
      ]
    },
    {
      "cell_type": "code",
      "metadata": {
        "id": "2kipEB_e4N1g"
      },
      "source": [
        "df_filter=df_processed.copy()\n",
        "\n",
        "df_filter['patterns'] = df_filter['patterns'].str.replace('[^A-Za-z]',' ')\n",
        "df_filter['patterns'] = df_filter['patterns'].str.lower()\n",
        "df_filter[\"patterns\"] = df_filter[\"patterns\"].str.strip()\n",
        " "
      ],
      "execution_count": 88,
      "outputs": []
    },
    {
      "cell_type": "code",
      "metadata": {
        "id": "iekyhWI4-yC6"
      },
      "source": [
        "def pre_process(text):\n",
        "  text=text.replace('[^A-Za-z]',' ')\n",
        "  text=text.lower()\n",
        "  return text"
      ],
      "execution_count": 90,
      "outputs": []
    },
    {
      "cell_type": "code",
      "metadata": {
        "colab": {
          "base_uri": "https://localhost:8080/",
          "height": 402
        },
        "id": "TJV6Str74p7J",
        "outputId": "39e6a717-e48c-4195-d8d8-7a56fcb36f53"
      },
      "source": [
        "df_filter"
      ],
      "execution_count": 89,
      "outputs": [
        {
          "output_type": "execute_result",
          "data": {
            "text/html": [
              "<div>\n",
              "<style scoped>\n",
              "    .dataframe tbody tr th:only-of-type {\n",
              "        vertical-align: middle;\n",
              "    }\n",
              "\n",
              "    .dataframe tbody tr th {\n",
              "        vertical-align: top;\n",
              "    }\n",
              "\n",
              "    .dataframe thead th {\n",
              "        text-align: right;\n",
              "    }\n",
              "</style>\n",
              "<table border=\"1\" class=\"dataframe\">\n",
              "  <thead>\n",
              "    <tr style=\"text-align: right;\">\n",
              "      <th></th>\n",
              "      <th>patterns</th>\n",
              "      <th>response</th>\n",
              "    </tr>\n",
              "  </thead>\n",
              "  <tbody>\n",
              "    <tr>\n",
              "      <th>0</th>\n",
              "      <td>hi</td>\n",
              "      <td>Hello! how can i help you ?</td>\n",
              "    </tr>\n",
              "    <tr>\n",
              "      <th>1</th>\n",
              "      <td>how are you</td>\n",
              "      <td>Hello! how can i help you ?</td>\n",
              "    </tr>\n",
              "    <tr>\n",
              "      <th>2</th>\n",
              "      <td>is anyone there</td>\n",
              "      <td>Hello! how can i help you ?</td>\n",
              "    </tr>\n",
              "    <tr>\n",
              "      <th>3</th>\n",
              "      <td>hello</td>\n",
              "      <td>Hello! how can i help you ?</td>\n",
              "    </tr>\n",
              "    <tr>\n",
              "      <th>4</th>\n",
              "      <td>whats up</td>\n",
              "      <td>Hello! how can i help you ?</td>\n",
              "    </tr>\n",
              "    <tr>\n",
              "      <th>...</th>\n",
              "      <td>...</td>\n",
              "      <td>...</td>\n",
              "    </tr>\n",
              "    <tr>\n",
              "      <th>123</th>\n",
              "      <td>not good solution</td>\n",
              "      <td>Tarnsferring the request to your PM</td>\n",
              "    </tr>\n",
              "    <tr>\n",
              "      <th>124</th>\n",
              "      <td>no help</td>\n",
              "      <td>Tarnsferring the request to your PM</td>\n",
              "    </tr>\n",
              "    <tr>\n",
              "      <th>125</th>\n",
              "      <td>wasted my time</td>\n",
              "      <td>Tarnsferring the request to your PM</td>\n",
              "    </tr>\n",
              "    <tr>\n",
              "      <th>126</th>\n",
              "      <td>useless bot</td>\n",
              "      <td>Tarnsferring the request to your PM</td>\n",
              "    </tr>\n",
              "    <tr>\n",
              "      <th>127</th>\n",
              "      <td>create a ticket</td>\n",
              "      <td>Tarnsferring the request to your PM</td>\n",
              "    </tr>\n",
              "  </tbody>\n",
              "</table>\n",
              "<p>128 rows × 2 columns</p>\n",
              "</div>"
            ],
            "text/plain": [
              "              patterns                             response\n",
              "0                   hi          Hello! how can i help you ?\n",
              "1          how are you          Hello! how can i help you ?\n",
              "2      is anyone there          Hello! how can i help you ?\n",
              "3                hello          Hello! how can i help you ?\n",
              "4             whats up          Hello! how can i help you ?\n",
              "..                 ...                                  ...\n",
              "123  not good solution  Tarnsferring the request to your PM\n",
              "124            no help  Tarnsferring the request to your PM\n",
              "125     wasted my time  Tarnsferring the request to your PM\n",
              "126        useless bot  Tarnsferring the request to your PM\n",
              "127    create a ticket  Tarnsferring the request to your PM\n",
              "\n",
              "[128 rows x 2 columns]"
            ]
          },
          "metadata": {
            "tags": []
          },
          "execution_count": 89
        }
      ]
    },
    {
      "cell_type": "code",
      "metadata": {
        "id": "gqKLYxuX_14D"
      },
      "source": [
        "from sklearn.preprocessing import LabelEncoder\n",
        "from sklearn.feature_extraction.text import TfidfVectorizer\n",
        "from sklearn import model_selection, naive_bayes, svm\n",
        "from sklearn.metrics import accuracy_score"
      ],
      "execution_count": 92,
      "outputs": []
    },
    {
      "cell_type": "code",
      "metadata": {
        "id": "93qcqTty9YrN"
      },
      "source": [
        "\n",
        "Train_X, Test_X, Train_Y, Test_Y = model_selection.train_test_split(df_filter['patterns'],df_filter['response'],test_size=0.3)"
      ],
      "execution_count": 94,
      "outputs": []
    },
    {
      "cell_type": "code",
      "metadata": {
        "id": "KewgXZmZ_u2N"
      },
      "source": [
        "Tfidf_vect = TfidfVectorizer(max_features=5000)\n",
        "Tfidf_vect.fit(df_filter['patterns'])\n",
        "Train_X_Tfidf = Tfidf_vect.transform(Train_X)\n",
        "Test_X_Tfidf = Tfidf_vect.transform(Test_X)"
      ],
      "execution_count": 95,
      "outputs": []
    },
    {
      "cell_type": "markdown",
      "metadata": {
        "id": "tOoSQ6ZUPrn-"
      },
      "source": [
        "Created Classifier and testing accuracy "
      ]
    },
    {
      "cell_type": "code",
      "metadata": {
        "colab": {
          "base_uri": "https://localhost:8080/"
        },
        "id": "AQOAc8U5AUnZ",
        "outputId": "70eb3dea-2d54-4e1a-a31b-8a1dfa4bd6bb"
      },
      "source": [
        "# fit the training dataset on the NB classifier\n",
        "SVM = svm.SVC(C=1.0, kernel='linear', degree=3, gamma='auto')\n",
        "SVM.fit(Train_X_Tfidf,Train_Y)\n",
        "# predict the labels on validation dataset\n",
        "predictions_SVM = SVM.predict(Train_X_Tfidf)\n",
        "# Use accuracy_score function to get the accuracy\n",
        "print(\"SVM Accuracy Score -> \",accuracy_score(predictions_SVM, Train_Y)*100)"
      ],
      "execution_count": 101,
      "outputs": [
        {
          "output_type": "stream",
          "text": [
            "SVM Accuracy Score ->  100.0\n"
          ],
          "name": "stdout"
        }
      ]
    },
    {
      "cell_type": "code",
      "metadata": {
        "id": "EjVjDhURCIVc"
      },
      "source": [
        "def call_model(input):\n",
        "  inputp=pre_process(input)\n",
        "  test=Tfidf_vect.transform([inputp])\n",
        "  return SVM.predict(test)[0]"
      ],
      "execution_count": 109,
      "outputs": []
    },
    {
      "cell_type": "markdown",
      "metadata": {
        "id": "jzpbYW3DP2Jt"
      },
      "source": [
        "Manual Testing"
      ]
    },
    {
      "cell_type": "code",
      "metadata": {
        "colab": {
          "base_uri": "https://localhost:8080/",
          "height": 35
        },
        "id": "zepXh1yTCRUW",
        "outputId": "3d0620ec-d710-41ab-ac9a-4b93602d7735"
      },
      "source": [
        "call_model('not good solution')"
      ],
      "execution_count": 110,
      "outputs": [
        {
          "output_type": "execute_result",
          "data": {
            "application/vnd.google.colaboratory.intrinsic+json": {
              "type": "string"
            },
            "text/plain": [
              "'Tarnsferring the request to your PM'"
            ]
          },
          "metadata": {
            "tags": []
          },
          "execution_count": 110
        }
      ]
    },
    {
      "cell_type": "code",
      "metadata": {
        "colab": {
          "base_uri": "https://localhost:8080/",
          "height": 35
        },
        "id": "NeJeSnycDZfN",
        "outputId": "1f2645fa-c303-4bb3-e5af-7f17753daa2c"
      },
      "source": [
        "call_model('wasted my time')"
      ],
      "execution_count": 111,
      "outputs": [
        {
          "output_type": "execute_result",
          "data": {
            "application/vnd.google.colaboratory.intrinsic+json": {
              "type": "string"
            },
            "text/plain": [
              "'Tarnsferring the request to your PM'"
            ]
          },
          "metadata": {
            "tags": []
          },
          "execution_count": 111
        }
      ]
    },
    {
      "cell_type": "code",
      "metadata": {
        "colab": {
          "base_uri": "https://localhost:8080/",
          "height": 35
        },
        "id": "eJ7Hn_CYEECS",
        "outputId": "2c5601d7-4b1f-4181-fc6b-450d97792b22"
      },
      "source": [
        "call_model('my time was fully wasted')"
      ],
      "execution_count": 112,
      "outputs": [
        {
          "output_type": "execute_result",
          "data": {
            "application/vnd.google.colaboratory.intrinsic+json": {
              "type": "string"
            },
            "text/plain": [
              "'Tarnsferring the request to your PM'"
            ]
          },
          "metadata": {
            "tags": []
          },
          "execution_count": 112
        }
      ]
    },
    {
      "cell_type": "code",
      "metadata": {
        "colab": {
          "base_uri": "https://localhost:8080/",
          "height": 35
        },
        "id": "TaEHtZQcEL6N",
        "outputId": "8db02cd0-040f-45a9-e7f9-b9c83f06a3f4"
      },
      "source": [
        "call_model('is anyone there, i am waiting')"
      ],
      "execution_count": 114,
      "outputs": [
        {
          "output_type": "execute_result",
          "data": {
            "application/vnd.google.colaboratory.intrinsic+json": {
              "type": "string"
            },
            "text/plain": [
              "'Hello! how can i help you ?'"
            ]
          },
          "metadata": {
            "tags": []
          },
          "execution_count": 114
        }
      ]
    },
    {
      "cell_type": "code",
      "metadata": {
        "colab": {
          "base_uri": "https://localhost:8080/",
          "height": 35
        },
        "id": "fUU1eLdOOgLq",
        "outputId": "981e9b56-bf94-4464-907e-8bc39215df50"
      },
      "source": [
        "call_model('thank you')"
      ],
      "execution_count": 184,
      "outputs": [
        {
          "output_type": "execute_result",
          "data": {
            "application/vnd.google.colaboratory.intrinsic+json": {
              "type": "string"
            },
            "text/plain": [
              "'I hope I was able to assist you, Good Bye'"
            ]
          },
          "metadata": {
            "tags": []
          },
          "execution_count": 184
        }
      ]
    },
    {
      "cell_type": "code",
      "metadata": {
        "id": "YNqRnYHsHxtD"
      },
      "source": [
        "df2['responses_p']=[str(x.strip(\"['']\"))  for x in df2['responses']]"
      ],
      "execution_count": 176,
      "outputs": []
    },
    {
      "cell_type": "code",
      "metadata": {
        "colab": {
          "base_uri": "https://localhost:8080/"
        },
        "id": "_16kvhbuESCX",
        "outputId": "0b7b1f55-107a-4a31-cc27-3fe598c48a20"
      },
      "source": [
        "\n",
        "while 1:\n",
        "    input= %sx read -p ''\n",
        "    output=call_model(input[0])\n",
        "    tag=list(df2[df2['responses_p']==output]['tag'])[0]\n",
        "    if tag == 'Exit': \n",
        "        print(output)\n",
        "        break\n",
        "    else:\n",
        "        print(output)\n",
        "        continue\n",
        "\n"
      ],
      "execution_count": 189,
      "outputs": [
        {
          "output_type": "stream",
          "text": [
            "Hello! how can i help you ?\n",
            "I am your virtual learning assistant\n",
            "Tarnsferring the request to your PM\n",
            "I hope I was able to assist you, Good Bye\n"
          ],
          "name": "stdout"
        }
      ]
    },
    {
      "cell_type": "code",
      "metadata": {
        "id": "QhPgK50QOv5R"
      },
      "source": [
        ""
      ],
      "execution_count": null,
      "outputs": []
    }
  ]
}